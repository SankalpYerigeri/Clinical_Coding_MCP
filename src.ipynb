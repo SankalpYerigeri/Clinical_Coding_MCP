{
 "cells": [
  {
   "cell_type": "code",
   "execution_count": 18,
   "id": "871b567a",
   "metadata": {},
   "outputs": [],
   "source": [
    "import pandas as pd\n",
    "from sentence_transformers import SentenceTransformer\n",
    "from sklearn.metrics.pairwise import cosine_similarity\n",
    "import numpy as np\n",
    "import os"
   ]
  },
  {
   "cell_type": "code",
   "execution_count": 19,
   "id": "e567f8cc",
   "metadata": {},
   "outputs": [],
   "source": [
    "class SemanticSearchTool:\n",
    "    \n",
    "    def __init__(self, codes_csv_path: str):\n",
    "        embedding_file = 'embeddings.npy'\n",
    "        self.model = SentenceTransformer('all-MiniLM-L6-v2')\n",
    "        self.codes_df = pd.read_csv(codes_csv_path)\n",
    "        print(\"Computing Vector Embedding for Code Descriptions\")\n",
    "        if os.path.exists(embedding_file):\n",
    "            print(\"Loading embedding from the existing file\")\n",
    "            self.description_embeddings = np.load(embedding_file)\n",
    "            print(\"Embeddings loaded Successfully\")\n",
    "        else:\n",
    "            print(\"No Existing embeddings are here\")\n",
    "            self.description_embeddings = self.model.encode(self.codes_df[\"description\"].tolist())\n",
    "            np.save(embedding_file, self.description_embeddings)\n",
    "            print(f\"\\nEmbeddings created and saved to {embedding_file}\")\n",
    "        \n",
    "        print(\"Semantic Search Tools is ready....\")\n",
    "\n",
    "    def search(self, clinical_summary:str, top_k: int = 10) ->pd.DataFrame:\n",
    "        if not clinical_summary:\n",
    "            return pd.DataFrame()\n",
    "        \n",
    "        query_embedding = self.model.encode([clinical_summary])\n",
    "        similarities = cosine_similarity(query_embedding, self.description_embeddings)\n",
    "        top_k_indices = np.argsort(similarities[0])[-top_k:][::-1]\n",
    "        return self.codes_df.iloc[top_k_indices]"
   ]
  },
  {
   "cell_type": "code",
   "execution_count": 21,
   "id": "74b13ab0",
   "metadata": {},
   "outputs": [
    {
     "name": "stdout",
     "output_type": "stream",
     "text": [
      "Computing Vector Embedding for Code Descriptions\n",
      "Loading embedding from the existing file\n",
      "Embeddings loaded Successfully\n",
      "Semantic Search Tools is ready....\n",
      "\n",
      "Performing semantic search for: Patient is 67-year old female who presented to the ermergency room with an acute onset of sharp, shooting lower abdominal pain, pronounced swelliing,nausea, vomiting, and a fever of 102°F. Physical examination revealed a firm, distended abdomen with tenderness to palpation, a positive Blumberg sign, and pain elicited by coughing, all highly suggestive of appendicitis. An ultrasound of the abdomen/pelvis confirmed the diagnosis of scute appendicitis. The patient underwent an uncomplicated laparoscopic appendectomy under general anesthesia. Intraoperatively, an inflamed appendix was found, but there was no evidence of localized or generalized peritonitis. The appendix was successfully resected\n",
      "\n",
      "Found potentially relevant codes:\n",
      "         code                                        description\n",
      "11098     K37                           Unspecified appendicitis\n",
      "11094   K3580                     Unspecified acute appendicitis\n",
      "11097     K36                                 Other appendicitis\n",
      "11084  K35200  Acute appendicitis with generalized peritoniti...\n",
      "11090   K3530  Acute appendicitis with localized peritonitis,...\n",
      "11087  K35210  Acute appendicitis with generalized peritoniti...\n",
      "11088  K35211  Acute appendicitis with generalized peritoniti...\n",
      "11095  K35890  Other acute appendicitis without perforation o...\n",
      "11085  K35201  Acute appendicitis with generalized peritoniti...\n",
      "11086  K35209  Acute appendicitis with generalized peritoniti...\n"
     ]
    }
   ],
   "source": [
    "if __name__ == '__main__':\n",
    "    semantic_tool = SemanticSearchTool(codes_csv_path='icd10cm_codes_2026.csv')\n",
    "    \n",
    "    patient_summary = \"Patient is 67-year old female who presented to the ermergency room with an acute onset of sharp, shooting lower abdominal pain, pronounced swelliing,nausea, vomiting, and a fever of 102°F. Physical examination revealed a firm, distended abdomen with tenderness to palpation, a positive Blumberg sign, and pain elicited by coughing, all highly suggestive of appendicitis. An ultrasound of the abdomen/pelvis confirmed the diagnosis of scute appendicitis. The patient underwent an uncomplicated laparoscopic appendectomy under general anesthesia. Intraoperatively, an inflamed appendix was found, but there was no evidence of localized or generalized peritonitis. The appendix was successfully resected\"\n",
    "    print(f\"\\nPerforming semantic search for: {patient_summary}\")\n",
    "    relevant_codes = semantic_tool.search(patient_summary)\n",
    "    print(f'\\nFound potentially relevant codes:')\n",
    "    print(relevant_codes)"
   ]
  }
 ],
 "metadata": {
  "kernelspec": {
   "display_name": "clinicalenv",
   "language": "python",
   "name": "python3"
  },
  "language_info": {
   "codemirror_mode": {
    "name": "ipython",
    "version": 3
   },
   "file_extension": ".py",
   "mimetype": "text/x-python",
   "name": "python",
   "nbconvert_exporter": "python",
   "pygments_lexer": "ipython3",
   "version": "3.12.8"
  }
 },
 "nbformat": 4,
 "nbformat_minor": 5
}
